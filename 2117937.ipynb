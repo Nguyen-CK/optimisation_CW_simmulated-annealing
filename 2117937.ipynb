{
 "cells": [
  {
   "cell_type": "markdown",
   "metadata": {},
   "source": [
    "1. Problem Implementation"
   ]
  },
  {
   "cell_type": "code",
   "execution_count": 24,
   "metadata": {},
   "outputs": [],
   "source": [
    "import numpy as np\n",
    "import warnings\n",
    "import matplotlib.pyplot as plot\n",
    "np.random.seed(10)\n",
    "pi = np.pi\n",
    "ten_power_negative_six = np.divide(1, np.power(10, 6))\n",
    "\n",
    "max_samples = 5000\n",
    "#max_iter = 8000\n",
    "t_initial = 90\n",
    "\n",
    "x1 = np.random.uniform(1,16,1)\n",
    "x2 = np.random.uniform(1,16,1)\n",
    "x3 = np.random.uniform(1,16,1)\n",
    "x4 = np.random.uniform(1,16,1)\n",
    "\n",
    "x = np.array([x1, x2, x3, x4])"
   ]
  },
  {
   "cell_type": "code",
   "execution_count": 25,
   "metadata": {},
   "outputs": [],
   "source": [
    "count_f = 0\n",
    "def f(x):\n",
    "    global count_f\n",
    "    count_f += 1\n",
    "    a = np.divide(np.multiply(P_zero(x), x[0]), 0.7) #(P0(x) * x1)/0.7\n",
    "\n",
    "    return np.add(a, E_f(x))"
   ]
  },
  {
   "cell_type": "code",
   "execution_count": 26,
   "metadata": {},
   "outputs": [],
   "source": [
    "def P(x):\n",
    "    a = np.log10(np.add(np.multiply(8.122, x[3]), 0.8)) #log10(8.122*x4 + 0.8)\n",
    "    b = np.subtract(np.log10(a), 10.04)  #log10(a) - 10.04\n",
    "    return np.divide(b,-3.55) #b/-3.55"
   ]
  },
  {
   "cell_type": "code",
   "execution_count": 27,
   "metadata": {},
   "outputs": [],
   "source": [
    "def delta_T(x):\n",
    "    a = np.power(10, P(x)) #10^P(x)\n",
    "    b = np.subtract(a, 560) #a - 560\n",
    "    return np.multiply(2, b) #2*b"
   ]
  },
  {
   "cell_type": "code",
   "execution_count": 28,
   "metadata": {},
   "outputs": [],
   "source": [
    "def E_f(x):\n",
    "    a = np.multiply(143.308, delta_T(x)) #143.308*T(x)\n",
    "    return np.multiply(a, x[0]) #a*x1"
   ]
  },
  {
   "cell_type": "code",
   "execution_count": 29,
   "metadata": {},
   "outputs": [],
   "source": [
    "def h(x):\n",
    "    a = np.square(np.divide(np.multiply(pi, 1500), 60)) #((1500*pi)/60)^2\n",
    "    b = np.multiply(2, np.multiply(ten_power_negative_six, np.multiply(pi, x[3]))) #2*(10^-6)*pi*x4\n",
    "    c = np.divide(b, E_f(x)) #b/Ef(x)\n",
    "    d = np.subtract(np.divide(np.power(x[2], 4), 4), np.divide(np.power(x[1], 4), 4)) #(x3^4)/4 - (x2^4)/4\n",
    "\n",
    "    return np.multiply(a, np.multiply(c, d)) "
   ]
  },
  {
   "cell_type": "code",
   "execution_count": 30,
   "metadata": {},
   "outputs": [],
   "source": [
    "def P_zero(x):\n",
    "    a = np.multiply(np.multiply(ten_power_negative_six, np.multiply(x[3], x[0])), 6) #6*(10^-6)*x4*x1\n",
    "    b = np.divide(a, np.multiply(pi, np.power(h(x), 3))) #a/(pi*(h(x))^3)\n",
    "    c = np.log(np.divide(x[2], x[1])) #ln(x3/x2)\n",
    "\n",
    "    return np.multiply(b, c)"
   ]
  },
  {
   "cell_type": "code",
   "execution_count": 31,
   "metadata": {},
   "outputs": [],
   "source": [
    "def W(x):\n",
    "    a = np.divide(np.multiply(pi, P_zero(x)), 2) #(pi*P0(x)/2)\n",
    "\n",
    "    b = np.subtract(np.square(x[2]), np.square(x[1])) #x3^2 - x2^2\n",
    "    c = np.log(np.divide(x[2], x[1])) #ln(x3/x2)\n",
    "    d = np.divide(b, c)\n",
    "\n",
    "    return np.multiply(a, d)"
   ]
  },
  {
   "cell_type": "code",
   "execution_count": 32,
   "metadata": {},
   "outputs": [],
   "source": [
    "count_g1 = 0\n",
    "def g1(x):\n",
    "    global count_g1\n",
    "    count_g1 += 1\n",
    "    return np.subtract(101000, W(x)) #101000 - W(x)"
   ]
  },
  {
   "cell_type": "code",
   "execution_count": 33,
   "metadata": {},
   "outputs": [],
   "source": [
    "count_g2 = 0\n",
    "def g2(x):\n",
    "    global count_g2\n",
    "    count_g2 += 1\n",
    "    return np.subtract(P_zero(x), 1000) #P0(x) - 1000"
   ]
  },
  {
   "cell_type": "code",
   "execution_count": 34,
   "metadata": {},
   "outputs": [],
   "source": [
    "count_g3 = 0\n",
    "def g3(x):\n",
    "    global count_g3\n",
    "    count_g3 += 1\n",
    "    return np.subtract(delta_T(x), 50) #T(x) - 50"
   ]
  },
  {
   "cell_type": "code",
   "execution_count": 35,
   "metadata": {},
   "outputs": [],
   "source": [
    "count_g4 = 0\n",
    "def g4(x):\n",
    "    global count_g4\n",
    "    count_g4 += 1\n",
    "    return np.subtract(0.001, h(x)) #0.001 - h(x)"
   ]
  },
  {
   "cell_type": "code",
   "execution_count": 36,
   "metadata": {},
   "outputs": [],
   "source": [
    "count_g5 = 0\n",
    "def g5(x):\n",
    "    global count_g5\n",
    "    count_g5 += 1\n",
    "    return np.subtract(x[1], x[2]) #x2-x3"
   ]
  },
  {
   "cell_type": "code",
   "execution_count": 37,
   "metadata": {},
   "outputs": [],
   "source": [
    "count_g6 = 0\n",
    "def g6(x):\n",
    "    global count_g6\n",
    "    count_g6 += 1\n",
    "    a = np.multiply(0.0307, x[0]) #0.0307*x1\n",
    "    b = np.multiply(772.8, np.multiply(pi, np.multiply(P_zero(x), np.multiply(h(x), x[2])))) #772.8*pi*P0(x)*h(x)*x3\n",
    "    return np.subtract(np.divide(a, b), 0.001) #a/b - 0.001"
   ]
  },
  {
   "cell_type": "code",
   "execution_count": 38,
   "metadata": {},
   "outputs": [],
   "source": [
    "count_g7 = 0\n",
    "def g7(x):\n",
    "    global count_g7\n",
    "    count_g7 += 1\n",
    "    a = np.subtract(np.square(x[2]), np.square(x[1])) #x3^2 - x2^2\n",
    "    b = np.divide(W(x), np.multiply(pi, a)) # W(x)/pi*a\n",
    "\n",
    "    return np.subtract(b, 5000) #b - 5000"
   ]
  },
  {
   "cell_type": "code",
   "execution_count": 39,
   "metadata": {},
   "outputs": [],
   "source": [
    "def reset_function():\n",
    "    global count_f, count_g1, count_g2, count_g3, count_g4,count_g5, count_g6, count_g7\n",
    "    count_f, count_g1, count_g2, count_g3, count_g4,count_g5, count_g6, count_g7 = 0, 0, 0 ,0 ,0 ,0 ,0, 0"
   ]
  },
  {
   "cell_type": "code",
   "execution_count": 40,
   "metadata": {},
   "outputs": [
    {
     "name": "stdout",
     "output_type": "stream",
     "text": [
      "f(x) = -1784.0773507231927\n",
      "g1(x) = 101000.01528759542\n",
      "g2(x) = -1000.0000598304209\n",
      "g3(x) = -52.97118117373543\n",
      "g4(x) = -0.9196377239881502\n",
      "g5(x) = 4.88\n",
      "g6(x) = -0.1447799968196423\n",
      "g7(x) = -4999.999945390436\n"
     ]
    }
   ],
   "source": [
    "#validation code\n",
    "\n",
    "x_test = np.array([4.19, 11.57, 6.69, 10.65])\n",
    "\n",
    "print(\"f(x) =\", f(x_test))\n",
    "print(\"g1(x) =\", g1(x_test))\n",
    "print(\"g2(x) =\", g2(x_test))\n",
    "print(\"g3(x) =\", g3(x_test))\n",
    "print(\"g4(x) =\", g4(x_test))\n",
    "print(\"g5(x) =\", g5(x_test))\n",
    "print(\"g6(x) =\", g6(x_test))\n",
    "print(\"g7(x) =\", g7(x_test))\n",
    "\n",
    "reset_function()"
   ]
  },
  {
   "cell_type": "code",
   "execution_count": 41,
   "metadata": {},
   "outputs": [],
   "source": [
    "#Test if the x_values are in the constraints\n",
    "def is_in_constraint(x):\n",
    "    if(g1(x) > 0):\n",
    "        return False\n",
    "    \n",
    "    if(g2(x) > 0):\n",
    "        return False\n",
    "    \n",
    "    if(g3(x) > 0):\n",
    "        return False\n",
    "    \n",
    "    if(g4(x) > 0):\n",
    "        return False\n",
    "    \n",
    "    if(g5(x) > 0):\n",
    "        return False\n",
    "    \n",
    "    if(g6(x) > 0):\n",
    "        return False\n",
    "    \n",
    "    if(g7(x) > 0):\n",
    "        return False\n",
    "    \n",
    "    return True"
   ]
  },
  {
   "cell_type": "code",
   "execution_count": 42,
   "metadata": {},
   "outputs": [],
   "source": [
    "def not_max_sample(n):\n",
    "    if count_f > n:\n",
    "        return True\n",
    "    \n",
    "    if count_g1 > n:\n",
    "        return True\n",
    "    \n",
    "    if count_g2 > n:\n",
    "        return True\n",
    "    \n",
    "    if count_g3 > n:\n",
    "        return True\n",
    "    \n",
    "    if count_g4 > n:\n",
    "        return True\n",
    "    \n",
    "    if count_g5 > n:\n",
    "        return True\n",
    "    \n",
    "    if count_g6 > n:\n",
    "        return True\n",
    "    \n",
    "    if count_g7 > n:\n",
    "        return True\n",
    "\n",
    "    return False"
   ]
  },
  {
   "cell_type": "markdown",
   "metadata": {},
   "source": [
    "2. Random Search"
   ]
  },
  {
   "cell_type": "code",
   "execution_count": 43,
   "metadata": {},
   "outputs": [
    {
     "name": "stdout",
     "output_type": "stream",
     "text": [
      "50507.77458894449\n"
     ]
    }
   ],
   "source": [
    "#Random search optimiser\n",
    "\"\"\"\n",
    "Parameters:\n",
    "function: the function needed to optimised\n",
    "max_iter: the maximum of iterations to run\n",
    "lower: lower bound of the values\n",
    "upper: upper bound of the values\n",
    "\"\"\"\n",
    "def random_search(function, max_iter, lower, upper):\n",
    "       points_to_evaluate = np.random.uniform(lower , upper, size= (max_iter, 4))\n",
    "       results = np.array([])\n",
    "       \n",
    "       for point in points_to_evaluate:\n",
    "              if not_max_sample(max_samples):\n",
    "                     break\n",
    "              if(is_in_constraint(point)):\n",
    "                     result = function(point)\n",
    "                     results = np.append(results, result)\n",
    "       \n",
    "       if results.size == 0:\n",
    "              reset_function()\n",
    "              return 1000000\n",
    "       else:\n",
    "              best = np.argmin(results)\n",
    "              reset_function()\n",
    "              return results[best]\n",
    "       \n",
    "\n",
    "print(random_search(f, max_samples, 1, 16))"
   ]
  },
  {
   "cell_type": "markdown",
   "metadata": {},
   "source": [
    "3. Simmulated Annealing"
   ]
  },
  {
   "cell_type": "code",
   "execution_count": 44,
   "metadata": {},
   "outputs": [
    {
     "name": "stdout",
     "output_type": "stream",
     "text": [
      "43039.665298376305\n"
     ]
    }
   ],
   "source": [
    "#Simmulated Annealing optimiser\n",
    "\"\"\"\n",
    "Parameters:\n",
    "function: the function needed to optimised\n",
    "max_iter: the maximum of iterations to run\n",
    "lower: lower bound of the values\n",
    "upper: upper bound of the values\n",
    "t_i: initial temparature for the cooling\n",
    "\"\"\"\n",
    "def simulated_annealing(function, max_iter, lower, upper, t_i):\n",
    "    x_best = np.random.uniform(lower, upper, size = (4))\n",
    "\n",
    "    #find a different initial value, if doesn't meet the constraints\n",
    "    while not is_in_constraint(x_best):\n",
    "        x_best = np.random.uniform(lower, upper, size = (4))\n",
    "\n",
    "    y_best = function(x_best)\n",
    "    x_c = x_best\n",
    "    y_c = y_best\n",
    "\n",
    "    #standard deviation for the candidate values\n",
    "    standard_deviation = np.multiply(np.subtract(upper, lower), 0.1)\n",
    "\n",
    "    for i in range(1, (max_iter)):\n",
    "        #stop loop if hit maximum number of samples\n",
    "        if not_max_sample(max_samples):\n",
    "            break\n",
    "        \n",
    "        x_cand = np.random.normal(x_c, standard_deviation)\n",
    "        y_cand = function(x_cand)\n",
    "\n",
    "        #skip the candidate if it's outside the constraints\n",
    "        if not is_in_constraint(x_cand):\n",
    "            continue\n",
    "\n",
    "        y_change = y_cand - y_c\n",
    "\n",
    "        #fast cooling\n",
    "        t_k = t_i/i\n",
    "        warnings.filterwarnings('ignore') \n",
    "        exp = np.divide(np.negative(y_change), t_k)\n",
    "        acceptance = np.exp(exp)\n",
    "        \n",
    "        if y_change <= 0 or np.random.uniform(0, 1) < min(acceptance, 1):\n",
    "            x_c, y_c = x_cand, y_cand\n",
    "        \n",
    "        if y_cand < y_best:\n",
    "            x_best, y_best = x_cand, y_cand\n",
    "\n",
    "    reset_function()\n",
    "    return y_best\n",
    "\n",
    "print(simulated_annealing(f, max_samples, 1, 16, t_initial))"
   ]
  },
  {
   "cell_type": "markdown",
   "metadata": {},
   "source": [
    "4. Performance Evaluation"
   ]
  },
  {
   "cell_type": "markdown",
   "metadata": {},
   "source": [
    "Null hypothesis: We assume Random Seach and Simmulated Annealing do not have much significant differences\n"
   ]
  },
  {
   "cell_type": "markdown",
   "metadata": {},
   "source": [
    "alpha value = 5%\n"
   ]
  },
  {
   "cell_type": "code",
   "execution_count": 45,
   "metadata": {},
   "outputs": [
    {
     "name": "stdout",
     "output_type": "stream",
     "text": [
      "[35625.42694284964, 44497.32981374546, 52786.9926132556, 47126.96748574094, 80602.35650215259, 66188.2742706025, 56302.979982610304, 82217.54077290338, 63215.66416238829, 47479.90582212873, 84143.4198676536, 55984.98086947332, 48922.63910452842, 51201.95195123653, 81495.55789148434, 102541.2143682367, 48894.49557276986, 43226.76684737031, 55292.14902950788, 46381.15901947838, 49650.766897786045]\n",
      "[44569.52885271132, 41787.598671569096, 35893.09560769491, 32887.897253376264, 31028.75691921894, 32800.31530531979, 27553.586725373105, 29802.262230288343, 47352.72724127624, 25606.66177725495, 44938.47212041108, 36835.52368605643, 29666.670258595586, 38546.63378573077, 34711.68596586754, 43896.165486004094, 30872.543311102825, 56416.387683111585, 47567.30012628736, 48472.60054472824, 33361.830153715775]\n"
     ]
    },
    {
     "data": {
      "text/plain": [
       "([<matplotlib.axis.XTick at 0x21bcc56ec90>,\n",
       "  <matplotlib.axis.XTick at 0x21bcc533010>],\n",
       " [Text(1, 0, 'Random Search'), Text(2, 0, 'Simmulated Annealing')])"
      ]
     },
     "execution_count": 45,
     "metadata": {},
     "output_type": "execute_result"
    },
    {
     "data": {
      "image/png": "[encoded data removed]",
      "text/plain": [
       "<Figure size 640x480 with 1 Axes>"
      ]
     },
     "metadata": {},
     "output_type": "display_data"
    }
   ],
   "source": [
    "repeat = 21\n",
    "result_random_search = [random_search(f, max_samples, 1, 16) for i in range(repeat)]\n",
    "result_simmulated_annealing = [simulated_annealing(f, max_samples, 1, 16, t_initial) for i in range(repeat)]\n",
    "print(result_random_search)\n",
    "print(result_simmulated_annealing)\n",
    "\n",
    "plot.boxplot([result_random_search, result_simmulated_annealing])\n",
    "plot.xticks([1,2], ['Random Search', 'Simmulated Annealing'])"
   ]
  },
  {
   "cell_type": "code",
   "execution_count": 46,
   "metadata": {},
   "outputs": [
    {
     "name": "stdout",
     "output_type": "stream",
     "text": [
      "MannwhitneyuResult(statistic=398.0, pvalue=4.2425071105196244e-06)\n",
      "Reject the null hypothesis\n"
     ]
    }
   ],
   "source": [
    "import scipy\n",
    "from scipy.stats import mannwhitneyu\n",
    "print(mannwhitneyu(result_random_search, result_simmulated_annealing, alternative=\"greater\"))\n",
    "stat, p_value = mannwhitneyu(result_random_search, result_simmulated_annealing, alternative=\"greater\")\n",
    "\n",
    "alpha_value = 0.05\n",
    "if p_value < alpha_value:\n",
    "    print(\"Reject the null hypothesis\")\n",
    "else:\n",
    "    print(\"Accept the null hypothesis\")"
   ]
  },
  {
   "cell_type": "markdown",
   "metadata": {},
   "source": [
    "As we reject the null hypothesis, it means the 2 optimisers do have significant differences."
   ]
  },
  {
   "cell_type": "markdown",
   "metadata": {},
   "source": [
    "Random search has a bigger distribution and wider range between the minimum and maximum. The median, first and third quartile are also higher. "
   ]
  },
  {
   "cell_type": "markdown",
   "metadata": {},
   "source": [
    "Simmulated annealing has a more condensed distrubution, the difference between the maximum and the minimum is not as far apart. The median, first and third quartile are closer related to other set of values. Its results are more stablised and condensed."
   ]
  }
 ],
 "metadata": {
  "kernelspec": {
   "display_name": "Python 3",
   "language": "python",
   "name": "python3"
  },
  "language_info": {
   "codemirror_mode": {
    "name": "ipython",
    "version": 3
   },
   "file_extension": ".py",
   "mimetype": "text/x-python",
   "name": "python",
   "nbconvert_exporter": "python",
   "pygments_lexer": "ipython3",
   "version": "3.11.6"
  }
 },
 "nbformat": 4,
 "nbformat_minor": 2
}
